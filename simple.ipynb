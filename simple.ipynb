{
 "cells": [
  {
   "cell_type": "code",
   "execution_count": 1,
   "metadata": {},
   "outputs": [],
   "source": [
    "from torch.autograd import Variable\n",
    "from torch.utils import data\n",
    "from typing import Any, Dict, List\n",
    "import collections\n",
    "import json\n",
    "import numpy as np\n",
    "import os\n",
    "import pandas as pd\n",
    "import pickle\n",
    "import string\n",
    "import tensorboardX\n",
    "import torch"
   ]
  },
  {
   "cell_type": "code",
   "execution_count": 2,
   "metadata": {},
   "outputs": [],
   "source": [
    "def load_data(file_path) -> pd.DataFrame:\n",
    "    with open(file_path, 'r') as infile:\n",
    "        data = infile.read().split('\\n')\n",
    "\n",
    "    data = list(map(json.loads, data[:-1]))\n",
    "\n",
    "    df = pd.DataFrame(data)\n",
    "    \n",
    "    print(len(df))\n",
    "    df = df.loc[df.gold_label != '-']\n",
    "    print(len(df))\n",
    "    return df"
   ]
  },
  {
   "cell_type": "code",
   "execution_count": 3,
   "metadata": {},
   "outputs": [],
   "source": [
    "file_path_train = 'data/multinli_1.0_train.jsonl'\n",
    "file_path_val = 'data/multinli_1.0_dev_matched.jsonl'"
   ]
  },
  {
   "cell_type": "code",
   "execution_count": 4,
   "metadata": {},
   "outputs": [
    {
     "name": "stdout",
     "output_type": "stream",
     "text": [
      "392702\n",
      "392702\n",
      "CPU times: user 6.58 s, sys: 1.19 s, total: 7.77 s\n",
      "Wall time: 7.77 s\n"
     ]
    }
   ],
   "source": [
    "%%time\n",
    "df_train = load_data(file_path_train)"
   ]
  },
  {
   "cell_type": "code",
   "execution_count": 5,
   "metadata": {},
   "outputs": [
    {
     "name": "stdout",
     "output_type": "stream",
     "text": [
      "10000\n",
      "9815\n",
      "CPU times: user 328 ms, sys: 7.47 ms, total: 336 ms\n",
      "Wall time: 332 ms\n"
     ]
    }
   ],
   "source": [
    "%%time\n",
    "df_val = load_data(file_path_val)"
   ]
  },
  {
   "cell_type": "code",
   "execution_count": 6,
   "metadata": {
    "scrolled": true
   },
   "outputs": [
    {
     "data": {
      "text/html": [
       "<div>\n",
       "<style scoped>\n",
       "    .dataframe tbody tr th:only-of-type {\n",
       "        vertical-align: middle;\n",
       "    }\n",
       "\n",
       "    .dataframe tbody tr th {\n",
       "        vertical-align: top;\n",
       "    }\n",
       "\n",
       "    .dataframe thead th {\n",
       "        text-align: right;\n",
       "    }\n",
       "</style>\n",
       "<table border=\"1\" class=\"dataframe\">\n",
       "  <thead>\n",
       "    <tr style=\"text-align: right;\">\n",
       "      <th></th>\n",
       "      <th>annotator_labels</th>\n",
       "      <th>genre</th>\n",
       "      <th>gold_label</th>\n",
       "      <th>pairID</th>\n",
       "      <th>promptID</th>\n",
       "      <th>sentence1</th>\n",
       "      <th>sentence1_binary_parse</th>\n",
       "      <th>sentence1_parse</th>\n",
       "      <th>sentence2</th>\n",
       "      <th>sentence2_binary_parse</th>\n",
       "      <th>sentence2_parse</th>\n",
       "    </tr>\n",
       "  </thead>\n",
       "  <tbody>\n",
       "    <tr>\n",
       "      <th>0</th>\n",
       "      <td>[neutral]</td>\n",
       "      <td>government</td>\n",
       "      <td>neutral</td>\n",
       "      <td>31193n</td>\n",
       "      <td>31193</td>\n",
       "      <td>Conceptually cream skimming has two basic dime...</td>\n",
       "      <td>( ( Conceptually ( cream skimming ) ) ( ( has ...</td>\n",
       "      <td>(ROOT (S (NP (JJ Conceptually) (NN cream) (NN ...</td>\n",
       "      <td>Product and geography are what make cream skim...</td>\n",
       "      <td>( ( ( Product and ) geography ) ( ( are ( what...</td>\n",
       "      <td>(ROOT (S (NP (NN Product) (CC and) (NN geograp...</td>\n",
       "    </tr>\n",
       "    <tr>\n",
       "      <th>1</th>\n",
       "      <td>[entailment]</td>\n",
       "      <td>telephone</td>\n",
       "      <td>entailment</td>\n",
       "      <td>101457e</td>\n",
       "      <td>101457</td>\n",
       "      <td>you know during the season and i guess at at y...</td>\n",
       "      <td>( you ( ( know ( during ( ( ( the season ) and...</td>\n",
       "      <td>(ROOT (S (NP (PRP you)) (VP (VBP know) (PP (IN...</td>\n",
       "      <td>You lose the things to the following level if ...</td>\n",
       "      <td>( You ( ( ( ( lose ( the things ) ) ( to ( the...</td>\n",
       "      <td>(ROOT (S (NP (PRP You)) (VP (VBP lose) (NP (DT...</td>\n",
       "    </tr>\n",
       "    <tr>\n",
       "      <th>2</th>\n",
       "      <td>[entailment]</td>\n",
       "      <td>fiction</td>\n",
       "      <td>entailment</td>\n",
       "      <td>134793e</td>\n",
       "      <td>134793</td>\n",
       "      <td>One of our number will carry out your instruct...</td>\n",
       "      <td>( ( One ( of ( our number ) ) ) ( ( will ( ( (...</td>\n",
       "      <td>(ROOT (S (NP (NP (CD One)) (PP (IN of) (NP (PR...</td>\n",
       "      <td>A member of my team will execute your orders w...</td>\n",
       "      <td>( ( ( A member ) ( of ( my team ) ) ) ( ( will...</td>\n",
       "      <td>(ROOT (S (NP (NP (DT A) (NN member)) (PP (IN o...</td>\n",
       "    </tr>\n",
       "    <tr>\n",
       "      <th>3</th>\n",
       "      <td>[entailment]</td>\n",
       "      <td>fiction</td>\n",
       "      <td>entailment</td>\n",
       "      <td>37397e</td>\n",
       "      <td>37397</td>\n",
       "      <td>How do you know? All this is their information...</td>\n",
       "      <td>( ( How ( ( ( do you ) know ) ? ) ) ( ( All th...</td>\n",
       "      <td>(ROOT (S (SBARQ (WHADVP (WRB How)) (SQ (VBP do...</td>\n",
       "      <td>This information belongs to them.</td>\n",
       "      <td>( ( This information ) ( ( belongs ( to them )...</td>\n",
       "      <td>(ROOT (S (NP (DT This) (NN information)) (VP (...</td>\n",
       "    </tr>\n",
       "    <tr>\n",
       "      <th>4</th>\n",
       "      <td>[neutral]</td>\n",
       "      <td>telephone</td>\n",
       "      <td>neutral</td>\n",
       "      <td>50563n</td>\n",
       "      <td>50563</td>\n",
       "      <td>yeah i tell you what though if you go price so...</td>\n",
       "      <td>( yeah ( i ( ( tell you ) ( what ( ( though ( ...</td>\n",
       "      <td>(ROOT (S (VP (VB yeah) (S (NP (FW i)) (VP (VB ...</td>\n",
       "      <td>The tennis shoes have a range of prices.</td>\n",
       "      <td>( ( The ( tennis shoes ) ) ( ( have ( ( a rang...</td>\n",
       "      <td>(ROOT (S (NP (DT The) (NN tennis) (NNS shoes))...</td>\n",
       "    </tr>\n",
       "  </tbody>\n",
       "</table>\n",
       "</div>"
      ],
      "text/plain": [
       "  annotator_labels       genre  gold_label   pairID promptID  \\\n",
       "0        [neutral]  government     neutral   31193n    31193   \n",
       "1     [entailment]   telephone  entailment  101457e   101457   \n",
       "2     [entailment]     fiction  entailment  134793e   134793   \n",
       "3     [entailment]     fiction  entailment   37397e    37397   \n",
       "4        [neutral]   telephone     neutral   50563n    50563   \n",
       "\n",
       "                                           sentence1  \\\n",
       "0  Conceptually cream skimming has two basic dime...   \n",
       "1  you know during the season and i guess at at y...   \n",
       "2  One of our number will carry out your instruct...   \n",
       "3  How do you know? All this is their information...   \n",
       "4  yeah i tell you what though if you go price so...   \n",
       "\n",
       "                              sentence1_binary_parse  \\\n",
       "0  ( ( Conceptually ( cream skimming ) ) ( ( has ...   \n",
       "1  ( you ( ( know ( during ( ( ( the season ) and...   \n",
       "2  ( ( One ( of ( our number ) ) ) ( ( will ( ( (...   \n",
       "3  ( ( How ( ( ( do you ) know ) ? ) ) ( ( All th...   \n",
       "4  ( yeah ( i ( ( tell you ) ( what ( ( though ( ...   \n",
       "\n",
       "                                     sentence1_parse  \\\n",
       "0  (ROOT (S (NP (JJ Conceptually) (NN cream) (NN ...   \n",
       "1  (ROOT (S (NP (PRP you)) (VP (VBP know) (PP (IN...   \n",
       "2  (ROOT (S (NP (NP (CD One)) (PP (IN of) (NP (PR...   \n",
       "3  (ROOT (S (SBARQ (WHADVP (WRB How)) (SQ (VBP do...   \n",
       "4  (ROOT (S (VP (VB yeah) (S (NP (FW i)) (VP (VB ...   \n",
       "\n",
       "                                           sentence2  \\\n",
       "0  Product and geography are what make cream skim...   \n",
       "1  You lose the things to the following level if ...   \n",
       "2  A member of my team will execute your orders w...   \n",
       "3                  This information belongs to them.   \n",
       "4           The tennis shoes have a range of prices.   \n",
       "\n",
       "                              sentence2_binary_parse  \\\n",
       "0  ( ( ( Product and ) geography ) ( ( are ( what...   \n",
       "1  ( You ( ( ( ( lose ( the things ) ) ( to ( the...   \n",
       "2  ( ( ( A member ) ( of ( my team ) ) ) ( ( will...   \n",
       "3  ( ( This information ) ( ( belongs ( to them )...   \n",
       "4  ( ( The ( tennis shoes ) ) ( ( have ( ( a rang...   \n",
       "\n",
       "                                     sentence2_parse  \n",
       "0  (ROOT (S (NP (NN Product) (CC and) (NN geograp...  \n",
       "1  (ROOT (S (NP (PRP You)) (VP (VBP lose) (NP (DT...  \n",
       "2  (ROOT (S (NP (NP (DT A) (NN member)) (PP (IN o...  \n",
       "3  (ROOT (S (NP (DT This) (NN information)) (VP (...  \n",
       "4  (ROOT (S (NP (DT The) (NN tennis) (NNS shoes))...  "
      ]
     },
     "execution_count": 6,
     "metadata": {},
     "output_type": "execute_result"
    }
   ],
   "source": [
    "df_train.head()"
   ]
  },
  {
   "cell_type": "code",
   "execution_count": 7,
   "metadata": {},
   "outputs": [
    {
     "data": {
      "text/html": [
       "<div>\n",
       "<style scoped>\n",
       "    .dataframe tbody tr th:only-of-type {\n",
       "        vertical-align: middle;\n",
       "    }\n",
       "\n",
       "    .dataframe tbody tr th {\n",
       "        vertical-align: top;\n",
       "    }\n",
       "\n",
       "    .dataframe thead th {\n",
       "        text-align: right;\n",
       "    }\n",
       "</style>\n",
       "<table border=\"1\" class=\"dataframe\">\n",
       "  <thead>\n",
       "    <tr style=\"text-align: right;\">\n",
       "      <th></th>\n",
       "      <th>annotator_labels</th>\n",
       "      <th>genre</th>\n",
       "      <th>gold_label</th>\n",
       "      <th>pairID</th>\n",
       "      <th>promptID</th>\n",
       "      <th>sentence1</th>\n",
       "      <th>sentence1_binary_parse</th>\n",
       "      <th>sentence1_parse</th>\n",
       "      <th>sentence2</th>\n",
       "      <th>sentence2_binary_parse</th>\n",
       "      <th>sentence2_parse</th>\n",
       "    </tr>\n",
       "  </thead>\n",
       "  <tbody>\n",
       "    <tr>\n",
       "      <th>0</th>\n",
       "      <td>[neutral, entailment, neutral, neutral, neutral]</td>\n",
       "      <td>slate</td>\n",
       "      <td>neutral</td>\n",
       "      <td>63735n</td>\n",
       "      <td>63735</td>\n",
       "      <td>The new rights are nice enough</td>\n",
       "      <td>( ( The ( new rights ) ) ( are ( nice enough )...</td>\n",
       "      <td>(ROOT (S (NP (DT The) (JJ new) (NNS rights)) (...</td>\n",
       "      <td>Everyone really likes the newest benefits</td>\n",
       "      <td>( Everyone ( really ( likes ( the ( newest ben...</td>\n",
       "      <td>(ROOT (S (NP (NN Everyone)) (VP (ADVP (RB real...</td>\n",
       "    </tr>\n",
       "    <tr>\n",
       "      <th>1</th>\n",
       "      <td>[contradiction, contradiction, contradiction, ...</td>\n",
       "      <td>government</td>\n",
       "      <td>contradiction</td>\n",
       "      <td>91383c</td>\n",
       "      <td>91383</td>\n",
       "      <td>This site includes a list of all award winners...</td>\n",
       "      <td>( ( This site ) ( ( includes ( ( ( ( a list ) ...</td>\n",
       "      <td>(ROOT (S (NP (DT This) (NN site)) (VP (VBZ inc...</td>\n",
       "      <td>The Government Executive articles housed on th...</td>\n",
       "      <td>( ( ( The ( Government ( Executive articles ) ...</td>\n",
       "      <td>(ROOT (S (NP (NP (DT The) (NNP Government) (NN...</td>\n",
       "    </tr>\n",
       "    <tr>\n",
       "      <th>2</th>\n",
       "      <td>[entailment, entailment, entailment, entailmen...</td>\n",
       "      <td>telephone</td>\n",
       "      <td>entailment</td>\n",
       "      <td>755e</td>\n",
       "      <td>755</td>\n",
       "      <td>uh i don't know i i have mixed emotions about ...</td>\n",
       "      <td>( ( ( ( uh ( i ( ( do n't ) ( know ( ( i i ) (...</td>\n",
       "      <td>(ROOT (SINV (S (S (INTJ (UH uh)) (NP (FW i)) (...</td>\n",
       "      <td>I like him for the most part, but would still ...</td>\n",
       "      <td>( I ( ( ( ( ( ( like him ) ( for ( the ( most ...</td>\n",
       "      <td>(ROOT (S (NP (PRP I)) (VP (VP (VBP like) (NP (...</td>\n",
       "    </tr>\n",
       "    <tr>\n",
       "      <th>3</th>\n",
       "      <td>[contradiction, contradiction, contradiction, ...</td>\n",
       "      <td>telephone</td>\n",
       "      <td>contradiction</td>\n",
       "      <td>78013c</td>\n",
       "      <td>78013</td>\n",
       "      <td>yeah i i think my favorite restaurant is alway...</td>\n",
       "      <td>( yeah ( ( i i ) ( think ( ( my ( favorite res...</td>\n",
       "      <td>(ROOT (S (VP (VB yeah) (NP (NP (FW i) (FW i)) ...</td>\n",
       "      <td>My favorite restaurants are always at least a ...</td>\n",
       "      <td>( ( My ( favorite restaurants ) ) ( ( ( ( are ...</td>\n",
       "      <td>(ROOT (S (NP (PRP$ My) (JJ favorite) (NNS rest...</td>\n",
       "    </tr>\n",
       "    <tr>\n",
       "      <th>4</th>\n",
       "      <td>[contradiction, contradiction, contradiction, ...</td>\n",
       "      <td>telephone</td>\n",
       "      <td>contradiction</td>\n",
       "      <td>96377c</td>\n",
       "      <td>96377</td>\n",
       "      <td>i don't know um do you do a lot of camping</td>\n",
       "      <td>( i ( ( do n't ) ( know ( um ( do ( you ( do (...</td>\n",
       "      <td>(ROOT (S (NP (FW i)) (VP (VBP do) (RB n't) (VP...</td>\n",
       "      <td>I know exactly.</td>\n",
       "      <td>( I ( ( know exactly ) . ) )</td>\n",
       "      <td>(ROOT (S (NP (PRP I)) (VP (VBP know) (ADVP (RB...</td>\n",
       "    </tr>\n",
       "  </tbody>\n",
       "</table>\n",
       "</div>"
      ],
      "text/plain": [
       "                                    annotator_labels       genre  \\\n",
       "0   [neutral, entailment, neutral, neutral, neutral]       slate   \n",
       "1  [contradiction, contradiction, contradiction, ...  government   \n",
       "2  [entailment, entailment, entailment, entailmen...   telephone   \n",
       "3  [contradiction, contradiction, contradiction, ...   telephone   \n",
       "4  [contradiction, contradiction, contradiction, ...   telephone   \n",
       "\n",
       "      gold_label  pairID promptID  \\\n",
       "0        neutral  63735n    63735   \n",
       "1  contradiction  91383c    91383   \n",
       "2     entailment    755e      755   \n",
       "3  contradiction  78013c    78013   \n",
       "4  contradiction  96377c    96377   \n",
       "\n",
       "                                           sentence1  \\\n",
       "0                     The new rights are nice enough   \n",
       "1  This site includes a list of all award winners...   \n",
       "2  uh i don't know i i have mixed emotions about ...   \n",
       "3  yeah i i think my favorite restaurant is alway...   \n",
       "4         i don't know um do you do a lot of camping   \n",
       "\n",
       "                              sentence1_binary_parse  \\\n",
       "0  ( ( The ( new rights ) ) ( are ( nice enough )...   \n",
       "1  ( ( This site ) ( ( includes ( ( ( ( a list ) ...   \n",
       "2  ( ( ( ( uh ( i ( ( do n't ) ( know ( ( i i ) (...   \n",
       "3  ( yeah ( ( i i ) ( think ( ( my ( favorite res...   \n",
       "4  ( i ( ( do n't ) ( know ( um ( do ( you ( do (...   \n",
       "\n",
       "                                     sentence1_parse  \\\n",
       "0  (ROOT (S (NP (DT The) (JJ new) (NNS rights)) (...   \n",
       "1  (ROOT (S (NP (DT This) (NN site)) (VP (VBZ inc...   \n",
       "2  (ROOT (SINV (S (S (INTJ (UH uh)) (NP (FW i)) (...   \n",
       "3  (ROOT (S (VP (VB yeah) (NP (NP (FW i) (FW i)) ...   \n",
       "4  (ROOT (S (NP (FW i)) (VP (VBP do) (RB n't) (VP...   \n",
       "\n",
       "                                           sentence2  \\\n",
       "0         Everyone really likes the newest benefits    \n",
       "1  The Government Executive articles housed on th...   \n",
       "2  I like him for the most part, but would still ...   \n",
       "3  My favorite restaurants are always at least a ...   \n",
       "4                                    I know exactly.   \n",
       "\n",
       "                              sentence2_binary_parse  \\\n",
       "0  ( Everyone ( really ( likes ( the ( newest ben...   \n",
       "1  ( ( ( The ( Government ( Executive articles ) ...   \n",
       "2  ( I ( ( ( ( ( ( like him ) ( for ( the ( most ...   \n",
       "3  ( ( My ( favorite restaurants ) ) ( ( ( ( are ...   \n",
       "4                       ( I ( ( know exactly ) . ) )   \n",
       "\n",
       "                                     sentence2_parse  \n",
       "0  (ROOT (S (NP (NN Everyone)) (VP (ADVP (RB real...  \n",
       "1  (ROOT (S (NP (NP (DT The) (NNP Government) (NN...  \n",
       "2  (ROOT (S (NP (PRP I)) (VP (VP (VBP like) (NP (...  \n",
       "3  (ROOT (S (NP (PRP$ My) (JJ favorite) (NNS rest...  \n",
       "4  (ROOT (S (NP (PRP I)) (VP (VBP know) (ADVP (RB...  "
      ]
     },
     "execution_count": 7,
     "metadata": {},
     "output_type": "execute_result"
    }
   ],
   "source": [
    "df_val.head()"
   ]
  },
  {
   "cell_type": "code",
   "execution_count": 8,
   "metadata": {},
   "outputs": [
    {
     "data": {
      "text/html": [
       "<div>\n",
       "<style scoped>\n",
       "    .dataframe tbody tr th:only-of-type {\n",
       "        vertical-align: middle;\n",
       "    }\n",
       "\n",
       "    .dataframe tbody tr th {\n",
       "        vertical-align: top;\n",
       "    }\n",
       "\n",
       "    .dataframe thead th {\n",
       "        text-align: right;\n",
       "    }\n",
       "</style>\n",
       "<table border=\"1\" class=\"dataframe\">\n",
       "  <thead>\n",
       "    <tr style=\"text-align: right;\">\n",
       "      <th></th>\n",
       "      <th>sentence1</th>\n",
       "      <th>sentence2</th>\n",
       "      <th>gold_label</th>\n",
       "    </tr>\n",
       "  </thead>\n",
       "  <tbody>\n",
       "    <tr>\n",
       "      <th>0</th>\n",
       "      <td>Conceptually cream skimming has two basic dime...</td>\n",
       "      <td>Product and geography are what make cream skim...</td>\n",
       "      <td>neutral</td>\n",
       "    </tr>\n",
       "    <tr>\n",
       "      <th>1</th>\n",
       "      <td>you know during the season and i guess at at y...</td>\n",
       "      <td>You lose the things to the following level if ...</td>\n",
       "      <td>entailment</td>\n",
       "    </tr>\n",
       "    <tr>\n",
       "      <th>2</th>\n",
       "      <td>One of our number will carry out your instruct...</td>\n",
       "      <td>A member of my team will execute your orders w...</td>\n",
       "      <td>entailment</td>\n",
       "    </tr>\n",
       "    <tr>\n",
       "      <th>3</th>\n",
       "      <td>How do you know? All this is their information...</td>\n",
       "      <td>This information belongs to them.</td>\n",
       "      <td>entailment</td>\n",
       "    </tr>\n",
       "    <tr>\n",
       "      <th>4</th>\n",
       "      <td>yeah i tell you what though if you go price so...</td>\n",
       "      <td>The tennis shoes have a range of prices.</td>\n",
       "      <td>neutral</td>\n",
       "    </tr>\n",
       "    <tr>\n",
       "      <th>5</th>\n",
       "      <td>my walkman broke so i'm upset now i just have ...</td>\n",
       "      <td>I'm upset that my walkman broke and now I have...</td>\n",
       "      <td>entailment</td>\n",
       "    </tr>\n",
       "    <tr>\n",
       "      <th>6</th>\n",
       "      <td>But a few Christian mosaics survive above the ...</td>\n",
       "      <td>Most of the Christian mosaics were destroyed b...</td>\n",
       "      <td>neutral</td>\n",
       "    </tr>\n",
       "    <tr>\n",
       "      <th>7</th>\n",
       "      <td>(Read  for Slate 's take on Jackson's findings.)</td>\n",
       "      <td>Slate had an opinion on Jackson's findings.</td>\n",
       "      <td>entailment</td>\n",
       "    </tr>\n",
       "    <tr>\n",
       "      <th>8</th>\n",
       "      <td>Gays and lesbians.</td>\n",
       "      <td>Heterosexuals.</td>\n",
       "      <td>contradiction</td>\n",
       "    </tr>\n",
       "    <tr>\n",
       "      <th>9</th>\n",
       "      <td>At the end of Rue des Francs-Bourgeois is what...</td>\n",
       "      <td>Place des Vosges is constructed entirely of gr...</td>\n",
       "      <td>contradiction</td>\n",
       "    </tr>\n",
       "  </tbody>\n",
       "</table>\n",
       "</div>"
      ],
      "text/plain": [
       "                                           sentence1  \\\n",
       "0  Conceptually cream skimming has two basic dime...   \n",
       "1  you know during the season and i guess at at y...   \n",
       "2  One of our number will carry out your instruct...   \n",
       "3  How do you know? All this is their information...   \n",
       "4  yeah i tell you what though if you go price so...   \n",
       "5  my walkman broke so i'm upset now i just have ...   \n",
       "6  But a few Christian mosaics survive above the ...   \n",
       "7   (Read  for Slate 's take on Jackson's findings.)   \n",
       "8                                 Gays and lesbians.   \n",
       "9  At the end of Rue des Francs-Bourgeois is what...   \n",
       "\n",
       "                                           sentence2     gold_label  \n",
       "0  Product and geography are what make cream skim...        neutral  \n",
       "1  You lose the things to the following level if ...     entailment  \n",
       "2  A member of my team will execute your orders w...     entailment  \n",
       "3                  This information belongs to them.     entailment  \n",
       "4           The tennis shoes have a range of prices.        neutral  \n",
       "5  I'm upset that my walkman broke and now I have...     entailment  \n",
       "6  Most of the Christian mosaics were destroyed b...        neutral  \n",
       "7        Slate had an opinion on Jackson's findings.     entailment  \n",
       "8                                     Heterosexuals.  contradiction  \n",
       "9  Place des Vosges is constructed entirely of gr...  contradiction  "
      ]
     },
     "execution_count": 8,
     "metadata": {},
     "output_type": "execute_result"
    }
   ],
   "source": [
    "df_train.head(10)[['sentence1', 'sentence2', 'gold_label']]"
   ]
  },
  {
   "cell_type": "markdown",
   "metadata": {},
   "source": [
    "# CONFIG"
   ]
  },
  {
   "cell_type": "code",
   "execution_count": 9,
   "metadata": {},
   "outputs": [],
   "source": [
    "BATCH_SIZE = 1"
   ]
  },
  {
   "cell_type": "markdown",
   "metadata": {},
   "source": [
    "# Data loader"
   ]
  },
  {
   "cell_type": "code",
   "execution_count": 10,
   "metadata": {},
   "outputs": [],
   "source": [
    "id_to_lbl = ['neutral', 'entailment', 'contradiction']\n",
    "lbl_to_id = {\n",
    "    lbl: ix\n",
    "    for ix, lbl in enumerate(id_to_lbl)\n",
    "}"
   ]
  },
  {
   "cell_type": "code",
   "execution_count": 11,
   "metadata": {},
   "outputs": [],
   "source": [
    "class MNLIDataset(data.Dataset):\n",
    "    def __init__(self, df: pd.DataFrame, word_vectors: Dict) -> None:\n",
    "        df['label_id'] = df.gold_label.map(lbl_to_id)\n",
    "        df['sentence1'] = df['sentence1'].apply(lambda x: x.strip(string.punctuation))\n",
    "        df['sentence2'] = df['sentence2'].apply(lambda x: x.strip(string.punctuation))\n",
    "\n",
    "        self.df = df\n",
    "        self.word_vectors = word_vectors\n",
    "        \n",
    "    def __len__(self) -> int:\n",
    "        return len(self.df)\n",
    "\n",
    "    def _sentence_to_vec(self, sentence: str) -> np.ndarray:\n",
    "        # FIXME\n",
    "        vectors = []\n",
    "        final_sentence = []\n",
    "        for word in sentence.split(' '):\n",
    "            if word not in self.word_vectors:\n",
    "                continue\n",
    "\n",
    "            final_sentence.append(word)\n",
    "            vectors.append(self.word_vectors[word])\n",
    "\n",
    "#         vectors = np.vstack(vectors)\n",
    "        vectors = np.array(vectors)\n",
    "        final_sentence = ' '.join(final_sentence)\n",
    "        return vectors, final_sentence\n",
    "        \n",
    "    def _preprocess(self, record):\n",
    "        # Convert sentences to word vectors, return list of \n",
    "        v1, fs1 = self._sentence_to_vec(record['sentence1'])\n",
    "        v2, fs2 = self._sentence_to_vec(record['sentence2'])\n",
    "        return {\n",
    "            'sentence1': v1,\n",
    "            'sentence2': v2,\n",
    "            'label': record['label_id'],\n",
    "            'final_sentence1': fs1,\n",
    "            'final_sentence2': fs2,\n",
    "        }\n",
    "\n",
    "    def __getitem__(self, ix):\n",
    "        return self._preprocess(self.df.iloc[ix])"
   ]
  },
  {
   "cell_type": "code",
   "execution_count": 12,
   "metadata": {},
   "outputs": [],
   "source": [
    "def load_word_vectors(file_path: str) -> Dict:\n",
    "    with open(file_path, 'r') as infile:\n",
    "        data_glove = infile.read().split('\\n')\n",
    "\n",
    "    data_glove = map(lambda x: x.split(), data_glove)  # Split the words\n",
    "\n",
    "    glove = {\n",
    "        line[0]: np.array(line[1:], dtype=np.float32)\n",
    "        for line in data_glove\n",
    "        if len(line) == 301\n",
    "    }\n",
    "\n",
    "    return glove"
   ]
  },
  {
   "cell_type": "code",
   "execution_count": 18,
   "metadata": {
    "scrolled": true
   },
   "outputs": [
    {
     "name": "stdout",
     "output_type": "stream",
     "text": [
      "CPU times: user 61 µs, sys: 25 µs, total: 86 µs\n",
      "Wall time: 67 µs\n"
     ]
    }
   ],
   "source": [
    "%%time\n",
    "pickle_file = 'models/glove.pickle'\n",
    "if not os.path.exists(pickle_file):\n",
    "    glove = load_word_vectors('models/glove.840B.300d.txt')  # FIXME: There shold be 2196017 words\n",
    "    print(len(glove))\n",
    "\n",
    "    with open(pickle_file, 'wb') as outfile:\n",
    "        pickle.dump(glove, outfile)"
   ]
  },
  {
   "cell_type": "code",
   "execution_count": 19,
   "metadata": {},
   "outputs": [
    {
     "name": "stdout",
     "output_type": "stream",
     "text": [
      "CPU times: user 6.39 s, sys: 3.44 s, total: 9.83 s\n",
      "Wall time: 9.84 s\n"
     ]
    }
   ],
   "source": [
    "%%time\n",
    "with open(pickle_file, 'rb') as infile:\n",
    "    glove = pickle.load(infile)"
   ]
  },
  {
   "cell_type": "markdown",
   "metadata": {},
   "source": [
    "### Get the dataloader!"
   ]
  },
  {
   "cell_type": "code",
   "execution_count": 32,
   "metadata": {
    "scrolled": true
   },
   "outputs": [],
   "source": [
    "dataset_train = MNLIDataset(df_train, word_vectors=glove)\n",
    "dataloader_train = data.DataLoader(dataset=dataset_train, batch_size=BATCH_SIZE, pin_memory=True, shuffle=True)"
   ]
  },
  {
   "cell_type": "code",
   "execution_count": 33,
   "metadata": {
    "scrolled": true
   },
   "outputs": [],
   "source": [
    "dataset_val = MNLIDataset(df_val, word_vectors=glove)\n",
    "dataloader_val = data.DataLoader(dataset=dataset_val, batch_size=BATCH_SIZE, pin_memory=True, shuffle=True)"
   ]
  },
  {
   "cell_type": "code",
   "execution_count": 34,
   "metadata": {},
   "outputs": [
    {
     "name": "stdout",
     "output_type": "stream",
     "text": [
      "392702 392702\n",
      "9815 9815\n"
     ]
    }
   ],
   "source": [
    "print(len(dataset_train), len(dataloader_train))\n",
    "print(len(dataset_val), len(dataloader_val))"
   ]
  },
  {
   "cell_type": "markdown",
   "metadata": {},
   "source": [
    "### Class Weights"
   ]
  },
  {
   "cell_type": "code",
   "execution_count": 23,
   "metadata": {},
   "outputs": [
    {
     "data": {
      "text/plain": [
       "contradiction    130903\n",
       "neutral          130900\n",
       "entailment       130899\n",
       "Name: gold_label, dtype: int64"
      ]
     },
     "execution_count": 23,
     "metadata": {},
     "output_type": "execute_result"
    }
   ],
   "source": [
    "# We have balanced classes\n",
    "df_train.gold_label.value_counts()"
   ]
  },
  {
   "cell_type": "code",
   "execution_count": 24,
   "metadata": {},
   "outputs": [
    {
     "data": {
      "text/plain": [
       "entailment       3479\n",
       "contradiction    3213\n",
       "neutral          3123\n",
       "Name: gold_label, dtype: int64"
      ]
     },
     "execution_count": 24,
     "metadata": {},
     "output_type": "execute_result"
    }
   ],
   "source": [
    "# We have balanced classes\n",
    "df_val.gold_label.value_counts()"
   ]
  },
  {
   "cell_type": "markdown",
   "metadata": {},
   "source": [
    "## Basic network"
   ]
  },
  {
   "cell_type": "code",
   "execution_count": 25,
   "metadata": {},
   "outputs": [],
   "source": [
    "import torch.nn.functional as F"
   ]
  },
  {
   "cell_type": "code",
   "execution_count": 27,
   "metadata": {},
   "outputs": [],
   "source": [
    "class CBOW(torch.nn.Module):\n",
    "    def __init__(self, vector_dim=300, n_out=3) -> None:\n",
    "        super().__init__()\n",
    "        self.classifier = torch.nn.Linear(vector_dim * 3, n_out)\n",
    "        \n",
    "        self.vector_dim = vector_dim\n",
    "\n",
    "    def forward(self, data):\n",
    "        vectors1, vectors2 = data\n",
    "#         print(vectors1.shape, vectors2.shape)\n",
    "        s1, s2 = torch.sum(vectors1, dim=1), torch.sum(vectors2, dim=1)\n",
    "#         print(s1.shape, s2.shape)\n",
    "        \n",
    "        features = torch.cat([s1-s2, s1+s2, s1*s2], dim=1)\n",
    "#         print(features.shape)\n",
    "        pred = self.classifier(features)\n",
    "        return F.log_softmax(pred, dim=1)"
   ]
  },
  {
   "cell_type": "markdown",
   "metadata": {},
   "source": [
    "## Train"
   ]
  },
  {
   "cell_type": "code",
   "execution_count": 28,
   "metadata": {},
   "outputs": [],
   "source": [
    "def prep_inputs(batch, device=0):\n",
    "    inputs = (Variable(batch['sentence1']), Variable(batch['sentence2']))\n",
    "    label = Variable(batch['label'])\n",
    "\n",
    "    return inputs, label\n",
    "\n",
    "def evaluate(model, dataloader, loss_func, device, n_batches=10):\n",
    "    loss = 0\n",
    "    accuracy = 0\n",
    "\n",
    "    for ix, batch in enumerate(dataloader):\n",
    "        if ix >= n_batches:\n",
    "            break\n",
    "        \n",
    "        inputs, label = prep_inputs(batch)\n",
    "        \n",
    "        predicted = model(inputs)\n",
    "\n",
    "        loss += loss_func(predicted, label)\n",
    "        prediction = torch.argmax(predicted, dim=1)\n",
    "\n",
    "        # TODO: get the confusion here\n",
    "        accuracy += (torch.sum(prediction == label).data.cpu().numpy() / len(prediction))\n",
    "\n",
    "    accuracy /= n_batches\n",
    "    loss /= n_batches\n",
    "    \n",
    "    return loss, accuracy"
   ]
  },
  {
   "cell_type": "code",
   "execution_count": 35,
   "metadata": {},
   "outputs": [],
   "source": [
    "n_epochs = 8\n",
    "val_every = 1000\n",
    "\n",
    "DEVICE=1"
   ]
  },
  {
   "cell_type": "code",
   "execution_count": 36,
   "metadata": {},
   "outputs": [],
   "source": [
    "model = CBOW()\n",
    "\n",
    "loss_func = torch.nn.NLLLoss()\n",
    "optimizer = torch.optim.SGD(model.parameters(), lr=1e-8, momentum=0)"
   ]
  },
  {
   "cell_type": "code",
   "execution_count": 37,
   "metadata": {},
   "outputs": [],
   "source": [
    "epoch = 0"
   ]
  },
  {
   "cell_type": "code",
   "execution_count": 38,
   "metadata": {},
   "outputs": [],
   "source": [
    "model_str = 'cbow-0.1'\n",
    "model_dir = 'models/{}'.format(model_str)\n",
    "log_dir = 'logs/{}'.format(model_str)\n",
    "\n",
    "os.makedirs(model_dir)\n",
    "writer = tensorboardX.SummaryWriter(log_dir)"
   ]
  },
  {
   "cell_type": "code",
   "execution_count": 39,
   "metadata": {},
   "outputs": [
    {
     "name": "stdout",
     "output_type": "stream",
     "text": [
      "Epoch: 0, 0.00%: train loss: 16.436447143554688, validation loss: 35.54566955566406\n",
      "label accuracy: 0.4\n",
      "Epoch: 0, 0.25%: train loss: 0.33871355652809143, validation loss: 2.266204357147217\n",
      "label accuracy: 0.5\n",
      "Epoch: 0, 0.51%: train loss: 11.131587028503418, validation loss: 14.522628784179688\n",
      "label accuracy: 0.3\n"
     ]
    },
    {
     "ename": "RuntimeError",
     "evalue": "cannot unsqueeze empty tensor",
     "output_type": "error",
     "traceback": [
      "\u001b[0;31m---------------------------------------------------------------------------\u001b[0m",
      "\u001b[0;31mRuntimeError\u001b[0m                              Traceback (most recent call last)",
      "\u001b[0;32m<ipython-input-39-0bc0de5271fc>\u001b[0m in \u001b[0;36m<module>\u001b[0;34m()\u001b[0m\n\u001b[1;32m      2\u001b[0m \u001b[0;32mwhile\u001b[0m \u001b[0mepoch\u001b[0m \u001b[0;34m<\u001b[0m \u001b[0mn_epochs\u001b[0m\u001b[0;34m:\u001b[0m\u001b[0;34m\u001b[0m\u001b[0m\n\u001b[1;32m      3\u001b[0m \u001b[0;34m\u001b[0m\u001b[0m\n\u001b[0;32m----> 4\u001b[0;31m     \u001b[0;32mfor\u001b[0m \u001b[0miteration\u001b[0m\u001b[0;34m,\u001b[0m \u001b[0mbatch\u001b[0m \u001b[0;32min\u001b[0m \u001b[0menumerate\u001b[0m\u001b[0;34m(\u001b[0m\u001b[0mdataloader_train\u001b[0m\u001b[0;34m)\u001b[0m\u001b[0;34m:\u001b[0m\u001b[0;34m\u001b[0m\u001b[0m\n\u001b[0m\u001b[1;32m      5\u001b[0m         \u001b[0minputs\u001b[0m\u001b[0;34m,\u001b[0m \u001b[0mlabel\u001b[0m \u001b[0;34m=\u001b[0m \u001b[0mprep_inputs\u001b[0m\u001b[0;34m(\u001b[0m\u001b[0mbatch\u001b[0m\u001b[0;34m)\u001b[0m\u001b[0;34m\u001b[0m\u001b[0m\n\u001b[1;32m      6\u001b[0m \u001b[0;34m\u001b[0m\u001b[0m\n",
      "\u001b[0;32m~/miniconda3/envs/ocr/lib/python3.6/site-packages/torch/utils/data/dataloader.py\u001b[0m in \u001b[0;36m__next__\u001b[0;34m(self)\u001b[0m\n\u001b[1;32m    262\u001b[0m         \u001b[0;32mif\u001b[0m \u001b[0mself\u001b[0m\u001b[0;34m.\u001b[0m\u001b[0mnum_workers\u001b[0m \u001b[0;34m==\u001b[0m \u001b[0;36m0\u001b[0m\u001b[0;34m:\u001b[0m  \u001b[0;31m# same-process loading\u001b[0m\u001b[0;34m\u001b[0m\u001b[0m\n\u001b[1;32m    263\u001b[0m             \u001b[0mindices\u001b[0m \u001b[0;34m=\u001b[0m \u001b[0mnext\u001b[0m\u001b[0;34m(\u001b[0m\u001b[0mself\u001b[0m\u001b[0;34m.\u001b[0m\u001b[0msample_iter\u001b[0m\u001b[0;34m)\u001b[0m  \u001b[0;31m# may raise StopIteration\u001b[0m\u001b[0;34m\u001b[0m\u001b[0m\n\u001b[0;32m--> 264\u001b[0;31m             \u001b[0mbatch\u001b[0m \u001b[0;34m=\u001b[0m \u001b[0mself\u001b[0m\u001b[0;34m.\u001b[0m\u001b[0mcollate_fn\u001b[0m\u001b[0;34m(\u001b[0m\u001b[0;34m[\u001b[0m\u001b[0mself\u001b[0m\u001b[0;34m.\u001b[0m\u001b[0mdataset\u001b[0m\u001b[0;34m[\u001b[0m\u001b[0mi\u001b[0m\u001b[0;34m]\u001b[0m \u001b[0;32mfor\u001b[0m \u001b[0mi\u001b[0m \u001b[0;32min\u001b[0m \u001b[0mindices\u001b[0m\u001b[0;34m]\u001b[0m\u001b[0;34m)\u001b[0m\u001b[0;34m\u001b[0m\u001b[0m\n\u001b[0m\u001b[1;32m    265\u001b[0m             \u001b[0;32mif\u001b[0m \u001b[0mself\u001b[0m\u001b[0;34m.\u001b[0m\u001b[0mpin_memory\u001b[0m\u001b[0;34m:\u001b[0m\u001b[0;34m\u001b[0m\u001b[0m\n\u001b[1;32m    266\u001b[0m                 \u001b[0mbatch\u001b[0m \u001b[0;34m=\u001b[0m \u001b[0mpin_memory_batch\u001b[0m\u001b[0;34m(\u001b[0m\u001b[0mbatch\u001b[0m\u001b[0;34m)\u001b[0m\u001b[0;34m\u001b[0m\u001b[0m\n",
      "\u001b[0;32m~/miniconda3/envs/ocr/lib/python3.6/site-packages/torch/utils/data/dataloader.py\u001b[0m in \u001b[0;36mdefault_collate\u001b[0;34m(batch)\u001b[0m\n\u001b[1;32m    133\u001b[0m         \u001b[0;32mreturn\u001b[0m \u001b[0mbatch\u001b[0m\u001b[0;34m\u001b[0m\u001b[0m\n\u001b[1;32m    134\u001b[0m     \u001b[0;32melif\u001b[0m \u001b[0misinstance\u001b[0m\u001b[0;34m(\u001b[0m\u001b[0mbatch\u001b[0m\u001b[0;34m[\u001b[0m\u001b[0;36m0\u001b[0m\u001b[0;34m]\u001b[0m\u001b[0;34m,\u001b[0m \u001b[0mcollections\u001b[0m\u001b[0;34m.\u001b[0m\u001b[0mMapping\u001b[0m\u001b[0;34m)\u001b[0m\u001b[0;34m:\u001b[0m\u001b[0;34m\u001b[0m\u001b[0m\n\u001b[0;32m--> 135\u001b[0;31m         \u001b[0;32mreturn\u001b[0m \u001b[0;34m{\u001b[0m\u001b[0mkey\u001b[0m\u001b[0;34m:\u001b[0m \u001b[0mdefault_collate\u001b[0m\u001b[0;34m(\u001b[0m\u001b[0;34m[\u001b[0m\u001b[0md\u001b[0m\u001b[0;34m[\u001b[0m\u001b[0mkey\u001b[0m\u001b[0;34m]\u001b[0m \u001b[0;32mfor\u001b[0m \u001b[0md\u001b[0m \u001b[0;32min\u001b[0m \u001b[0mbatch\u001b[0m\u001b[0;34m]\u001b[0m\u001b[0;34m)\u001b[0m \u001b[0;32mfor\u001b[0m \u001b[0mkey\u001b[0m \u001b[0;32min\u001b[0m \u001b[0mbatch\u001b[0m\u001b[0;34m[\u001b[0m\u001b[0;36m0\u001b[0m\u001b[0;34m]\u001b[0m\u001b[0;34m}\u001b[0m\u001b[0;34m\u001b[0m\u001b[0m\n\u001b[0m\u001b[1;32m    136\u001b[0m     \u001b[0;32melif\u001b[0m \u001b[0misinstance\u001b[0m\u001b[0;34m(\u001b[0m\u001b[0mbatch\u001b[0m\u001b[0;34m[\u001b[0m\u001b[0;36m0\u001b[0m\u001b[0;34m]\u001b[0m\u001b[0;34m,\u001b[0m \u001b[0mcollections\u001b[0m\u001b[0;34m.\u001b[0m\u001b[0mSequence\u001b[0m\u001b[0;34m)\u001b[0m\u001b[0;34m:\u001b[0m\u001b[0;34m\u001b[0m\u001b[0m\n\u001b[1;32m    137\u001b[0m         \u001b[0mtransposed\u001b[0m \u001b[0;34m=\u001b[0m \u001b[0mzip\u001b[0m\u001b[0;34m(\u001b[0m\u001b[0;34m*\u001b[0m\u001b[0mbatch\u001b[0m\u001b[0;34m)\u001b[0m\u001b[0;34m\u001b[0m\u001b[0m\n",
      "\u001b[0;32m~/miniconda3/envs/ocr/lib/python3.6/site-packages/torch/utils/data/dataloader.py\u001b[0m in \u001b[0;36m<dictcomp>\u001b[0;34m(.0)\u001b[0m\n\u001b[1;32m    133\u001b[0m         \u001b[0;32mreturn\u001b[0m \u001b[0mbatch\u001b[0m\u001b[0;34m\u001b[0m\u001b[0m\n\u001b[1;32m    134\u001b[0m     \u001b[0;32melif\u001b[0m \u001b[0misinstance\u001b[0m\u001b[0;34m(\u001b[0m\u001b[0mbatch\u001b[0m\u001b[0;34m[\u001b[0m\u001b[0;36m0\u001b[0m\u001b[0;34m]\u001b[0m\u001b[0;34m,\u001b[0m \u001b[0mcollections\u001b[0m\u001b[0;34m.\u001b[0m\u001b[0mMapping\u001b[0m\u001b[0;34m)\u001b[0m\u001b[0;34m:\u001b[0m\u001b[0;34m\u001b[0m\u001b[0m\n\u001b[0;32m--> 135\u001b[0;31m         \u001b[0;32mreturn\u001b[0m \u001b[0;34m{\u001b[0m\u001b[0mkey\u001b[0m\u001b[0;34m:\u001b[0m \u001b[0mdefault_collate\u001b[0m\u001b[0;34m(\u001b[0m\u001b[0;34m[\u001b[0m\u001b[0md\u001b[0m\u001b[0;34m[\u001b[0m\u001b[0mkey\u001b[0m\u001b[0;34m]\u001b[0m \u001b[0;32mfor\u001b[0m \u001b[0md\u001b[0m \u001b[0;32min\u001b[0m \u001b[0mbatch\u001b[0m\u001b[0;34m]\u001b[0m\u001b[0;34m)\u001b[0m \u001b[0;32mfor\u001b[0m \u001b[0mkey\u001b[0m \u001b[0;32min\u001b[0m \u001b[0mbatch\u001b[0m\u001b[0;34m[\u001b[0m\u001b[0;36m0\u001b[0m\u001b[0;34m]\u001b[0m\u001b[0;34m}\u001b[0m\u001b[0;34m\u001b[0m\u001b[0m\n\u001b[0m\u001b[1;32m    136\u001b[0m     \u001b[0;32melif\u001b[0m \u001b[0misinstance\u001b[0m\u001b[0;34m(\u001b[0m\u001b[0mbatch\u001b[0m\u001b[0;34m[\u001b[0m\u001b[0;36m0\u001b[0m\u001b[0;34m]\u001b[0m\u001b[0;34m,\u001b[0m \u001b[0mcollections\u001b[0m\u001b[0;34m.\u001b[0m\u001b[0mSequence\u001b[0m\u001b[0;34m)\u001b[0m\u001b[0;34m:\u001b[0m\u001b[0;34m\u001b[0m\u001b[0m\n\u001b[1;32m    137\u001b[0m         \u001b[0mtransposed\u001b[0m \u001b[0;34m=\u001b[0m \u001b[0mzip\u001b[0m\u001b[0;34m(\u001b[0m\u001b[0;34m*\u001b[0m\u001b[0mbatch\u001b[0m\u001b[0;34m)\u001b[0m\u001b[0;34m\u001b[0m\u001b[0m\n",
      "\u001b[0;32m~/miniconda3/envs/ocr/lib/python3.6/site-packages/torch/utils/data/dataloader.py\u001b[0m in \u001b[0;36mdefault_collate\u001b[0;34m(batch)\u001b[0m\n\u001b[1;32m    122\u001b[0m                 \u001b[0;32mraise\u001b[0m \u001b[0mTypeError\u001b[0m\u001b[0;34m(\u001b[0m\u001b[0merror_msg\u001b[0m\u001b[0;34m.\u001b[0m\u001b[0mformat\u001b[0m\u001b[0;34m(\u001b[0m\u001b[0melem\u001b[0m\u001b[0;34m.\u001b[0m\u001b[0mdtype\u001b[0m\u001b[0;34m)\u001b[0m\u001b[0;34m)\u001b[0m\u001b[0;34m\u001b[0m\u001b[0m\n\u001b[1;32m    123\u001b[0m \u001b[0;34m\u001b[0m\u001b[0m\n\u001b[0;32m--> 124\u001b[0;31m             \u001b[0;32mreturn\u001b[0m \u001b[0mtorch\u001b[0m\u001b[0;34m.\u001b[0m\u001b[0mstack\u001b[0m\u001b[0;34m(\u001b[0m\u001b[0;34m[\u001b[0m\u001b[0mtorch\u001b[0m\u001b[0;34m.\u001b[0m\u001b[0mfrom_numpy\u001b[0m\u001b[0;34m(\u001b[0m\u001b[0mb\u001b[0m\u001b[0;34m)\u001b[0m \u001b[0;32mfor\u001b[0m \u001b[0mb\u001b[0m \u001b[0;32min\u001b[0m \u001b[0mbatch\u001b[0m\u001b[0;34m]\u001b[0m\u001b[0;34m,\u001b[0m \u001b[0;36m0\u001b[0m\u001b[0;34m)\u001b[0m\u001b[0;34m\u001b[0m\u001b[0m\n\u001b[0m\u001b[1;32m    125\u001b[0m         \u001b[0;32mif\u001b[0m \u001b[0melem\u001b[0m\u001b[0;34m.\u001b[0m\u001b[0mshape\u001b[0m \u001b[0;34m==\u001b[0m \u001b[0;34m(\u001b[0m\u001b[0;34m)\u001b[0m\u001b[0;34m:\u001b[0m  \u001b[0;31m# scalars\u001b[0m\u001b[0;34m\u001b[0m\u001b[0m\n\u001b[1;32m    126\u001b[0m             \u001b[0mpy_type\u001b[0m \u001b[0;34m=\u001b[0m \u001b[0mfloat\u001b[0m \u001b[0;32mif\u001b[0m \u001b[0melem\u001b[0m\u001b[0;34m.\u001b[0m\u001b[0mdtype\u001b[0m\u001b[0;34m.\u001b[0m\u001b[0mname\u001b[0m\u001b[0;34m.\u001b[0m\u001b[0mstartswith\u001b[0m\u001b[0;34m(\u001b[0m\u001b[0;34m'float'\u001b[0m\u001b[0;34m)\u001b[0m \u001b[0;32melse\u001b[0m \u001b[0mint\u001b[0m\u001b[0;34m\u001b[0m\u001b[0m\n",
      "\u001b[0;31mRuntimeError\u001b[0m: cannot unsqueeze empty tensor"
     ]
    }
   ],
   "source": [
    "model.train(True)\n",
    "while epoch < n_epochs:\n",
    "    \n",
    "    for iteration, batch in enumerate(dataloader_train):\n",
    "        inputs, label = prep_inputs(batch)\n",
    "\n",
    "        predicted = model(inputs)\n",
    "\n",
    "        optimizer.zero_grad()\n",
    "        loss_train = loss_func(predicted, label)\n",
    "        loss_train.backward()\n",
    "        optimizer.step()\n",
    "\n",
    "        # Log to tensorboard\n",
    "        iter_total = (epoch * len(dataloader_train)) + iteration\n",
    "        writer.add_scalar('train.loss', loss_train.data.cpu().numpy(), iter_total)\n",
    "\n",
    "        # Calculate validation accuracy\n",
    "        if iteration % val_every == 0:\n",
    "            loss_val, acc_val = evaluate(model, dataloader_val, device=DEVICE, loss_func=loss_func, n_batches=10)\n",
    "\n",
    "            s = \"Epoch: {}, {:.2f}%: train loss: {}, validation loss: {}, validation acc: {}\".format(\n",
    "                epoch, (iteration / len(dataloader_train)) * 100, loss_train.data.cpu().numpy(), loss_val, acc_val\n",
    "            )\n",
    "            print(s)\n",
    "\n",
    "    print('\\n------------------------------------------------------------------------------------------------------------')\n",
    "    print(\"Epoch:\", epoch + 1, \"label accuracy:\", accuracy_val)\n",
    "    print('------------------------------------------------------------------------------------------------------------\\n')\n",
    "\n",
    "    torch.save(model.state_dict(), f=os.path.join(model_dir, '{}_{}_{}.pt'.format(model_str, epoch, iteration)))\n",
    "    epoch += 1"
   ]
  },
  {
   "cell_type": "markdown",
   "metadata": {},
   "source": [
    "## Test"
   ]
  },
  {
   "cell_type": "code",
   "execution_count": null,
   "metadata": {},
   "outputs": [],
   "source": []
  }
 ],
 "metadata": {
  "kernelspec": {
   "display_name": "Python 3",
   "language": "python",
   "name": "python3"
  },
  "language_info": {
   "codemirror_mode": {
    "name": "ipython",
    "version": 3
   },
   "file_extension": ".py",
   "mimetype": "text/x-python",
   "name": "python",
   "nbconvert_exporter": "python",
   "pygments_lexer": "ipython3",
   "version": "3.6.6"
  }
 },
 "nbformat": 4,
 "nbformat_minor": 2
}
